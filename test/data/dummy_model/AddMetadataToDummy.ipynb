{
 "cells": [
  {
   "cell_type": "code",
   "execution_count": 3,
   "id": "ff1f7bbc-36d2-4b66-9df5-4c1e38a4b86b",
   "metadata": {
    "scrolled": true
   },
   "outputs": [],
   "source": [
    "import json\n",
    "import onnx"
   ]
  },
  {
   "cell_type": "code",
   "execution_count": 4,
   "id": "060d1bcf-b7df-4813-85cb-35fd5be9a69c",
   "metadata": {},
   "outputs": [],
   "source": [
    "model = onnx.load('dummy_segmentation_models/one_output_sigmoid_bsx1x512x512.onnx')\n",
    "\n",
    "class_names = [{\n",
    "    0: 'Coffee',\n",
    "}]\n",
    "\n",
    "m1 = model.metadata_props.add()\n",
    "m1.key = 'model_type'\n",
    "m1.value = json.dumps('Segmentor')\n",
    "\n",
    "m2 = model.metadata_props.add()\n",
    "m2.key = 'class_names'\n",
    "m2.value = json.dumps(class_names)\n",
    "\n",
    "onnx.save(model, 'dummy_segmentation_models/one_output_sigmoid_bsx1x512x512.onnx')"
   ]
  },
  {
   "cell_type": "code",
   "execution_count": 5,
   "id": "4db78a0c-7d5f-4eaa-9e90-bd638c880f26",
   "metadata": {},
   "outputs": [],
   "source": [
    "model = onnx.load('dummy_segmentation_models/one_output_sigmoid_bsx512x512.onnx')\n",
    "\n",
    "class_names = {\n",
    "    0: 'Coffee',\n",
    "}\n",
    "\n",
    "m1 = model.metadata_props.add()\n",
    "m1.key = 'model_type'\n",
    "m1.value = json.dumps('Segmentor')\n",
    "\n",
    "m2 = model.metadata_props.add()\n",
    "m2.key = 'class_names'\n",
    "m2.value = json.dumps(class_names)\n",
    "\n",
    "onnx.save(model, 'dummy_segmentation_models/one_output_sigmoid_bsx512x512.onnx')"
   ]
  },
  {
   "cell_type": "code",
   "execution_count": 6,
   "id": "451eec0c-06bb-40ca-b3d2-a76b1e9619c6",
   "metadata": {},
   "outputs": [],
   "source": [
    "model = onnx.load('dummy_segmentation_models/two_outputs_sigmoid_bsx1x512x512.onnx')\n",
    "\n",
    "class_names = [{\n",
    "    0: 'Coffee',\n",
    "},{\n",
    "    0: 'Juice',\n",
    "}]\n",
    "\n",
    "m1 = model.metadata_props.add()\n",
    "m1.key = 'model_type'\n",
    "m1.value = json.dumps('Segmentor')\n",
    "\n",
    "m2 = model.metadata_props.add()\n",
    "m2.key = 'class_names'\n",
    "m2.value = json.dumps(class_names)\n",
    "\n",
    "onnx.save(model, 'dummy_segmentation_models/two_outputs_sigmoid_bsx1x512x512.onnx')"
   ]
  },
  {
   "cell_type": "code",
   "execution_count": 7,
   "id": "0e933e81-e9f4-4e2c-a312-33a9e3233baa",
   "metadata": {},
   "outputs": [],
   "source": [
    "model = onnx.load('dummy_segmentation_models/two_outputs_softmax_bsx2x512x512.onnx')\n",
    "\n",
    "class_names = [{\n",
    "    0: 'Coffee',\n",
    "    1: 'Tea',\n",
    "},{\n",
    "    0: 'Juice',\n",
    "    1: 'Beer',\n",
    "}]\n",
    "\n",
    "m1 = model.metadata_props.add()\n",
    "m1.key = 'model_type'\n",
    "m1.value = json.dumps('Segmentor')\n",
    "\n",
    "m2 = model.metadata_props.add()\n",
    "m2.key = 'class_names'\n",
    "m2.value = json.dumps(class_names)\n",
    "\n",
    "onnx.save(model, 'dummy_segmentation_models/two_outputs_softmax_bsx2x512x512.onnx')"
   ]
  },
  {
   "cell_type": "code",
   "execution_count": null,
   "id": "89dbca0c-fac1-421c-898a-c2f62c2905ee",
   "metadata": {},
   "outputs": [],
   "source": []
  }
 ],
 "metadata": {
  "kernelspec": {
   "display_name": "Python 3 (ipykernel)",
   "language": "python",
   "name": "python3"
  },
  "language_info": {
   "codemirror_mode": {
    "name": "ipython",
    "version": 3
   },
   "file_extension": ".py",
   "mimetype": "text/x-python",
   "name": "python",
   "nbconvert_exporter": "python",
   "pygments_lexer": "ipython3",
   "version": "3.12.2"
  }
 },
 "nbformat": 4,
 "nbformat_minor": 5
}
