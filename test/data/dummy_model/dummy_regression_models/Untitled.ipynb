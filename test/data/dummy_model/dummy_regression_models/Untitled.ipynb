{
 "cells": [
  {
   "cell_type": "code",
   "execution_count": 2,
   "id": "7ad5306f-18fc-4499-b764-ab6902ac301f",
   "metadata": {},
   "outputs": [],
   "source": [
    "import torch\n",
    "import torch.nn as nn"
   ]
  },
  {
   "cell_type": "code",
   "execution_count": 6,
   "id": "42e756a1-3ea0-4600-adcd-50ad14b938f8",
   "metadata": {},
   "outputs": [
    {
     "name": "stdout",
     "output_type": "stream",
     "text": [
      "torch.Size([1, 512, 512])\n"
     ]
    }
   ],
   "source": [
    "x = torch.rand(1, 3, 512, 512)\n",
    "\n",
    "class Model(nn.Module):\n",
    "    def __init__(self):\n",
    "        super().__init__()\n",
    "\n",
    "        self.conv = nn.Conv2d(3, 1, 1)\n",
    "        \n",
    "        self.softmax = nn.Softmax(dim=1)\n",
    "        self.sigmoid = nn.Sigmoid()\n",
    "\n",
    "    def forward(self, x):\n",
    "        x = self.conv(x)\n",
    "\n",
    "        return self.sigmoid(x)[:,0] #, self.sigmoid(x)\n",
    "\n",
    "m = Model()\n",
    "# print(m(x)[0].shape, m(x)[1].shape)\n",
    "print(m(x).shape)\n",
    "\n",
    "torch.onnx.export(m,\n",
    "                  x,\n",
    "                  \"one_output_sigmoid_bsx512x512.onnx\",\n",
    "                  export_params=True,\n",
    "                  opset_version=12,\n",
    "                  do_constant_folding=True,\n",
    "                  input_names = ['input'],\n",
    "                  output_names = ['output'],\n",
    "                  dynamic_axes={'input' : {0 : 'batch_size'},\n",
    "                                'output' : {0 : 'batch_size'},\n",
    "                               # 'output2' : {0 : 'batch_size'},\n",
    "                               })"
   ]
  },
  {
   "cell_type": "code",
   "execution_count": null,
   "id": "79c0bfcb-47c4-44c9-9c9b-c4c75b2c3b34",
   "metadata": {},
   "outputs": [],
   "source": []
  }
 ],
 "metadata": {
  "kernelspec": {
   "display_name": "Python 3 (ipykernel)",
   "language": "python",
   "name": "python3"
  },
  "language_info": {
   "codemirror_mode": {
    "name": "ipython",
    "version": 3
   },
   "file_extension": ".py",
   "mimetype": "text/x-python",
   "name": "python",
   "nbconvert_exporter": "python",
   "pygments_lexer": "ipython3",
   "version": "3.10.12"
  }
 },
 "nbformat": 4,
 "nbformat_minor": 5
}
